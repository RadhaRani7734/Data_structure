{
  "nbformat": 4,
  "nbformat_minor": 0,
  "metadata": {
    "colab": {
      "provenance": []
    },
    "kernelspec": {
      "name": "python3",
      "display_name": "Python 3"
    },
    "language_info": {
      "name": "python"
    }
  },
  "cells": [
    {
      "cell_type": "markdown",
      "source": [
        "# 1. What are data structures, and why are they important?\n",
        "- Data structures :- Data structures are particular ways of origanizing, storing, and managing data in a computer so it can be accessed and modified efficiently.\n",
        "#Importance of data structures\n",
        "- Code efficiency: A well data structure can significantly speed up a program's performance by optimizing operations.\n",
        "- Large-scale data management: They make it feasible to manage and process massive datasets that would otherwise be too slow or cumbersome to handle.\n",
        "\n",
        "\n"
      ],
      "metadata": {
        "id": "bQDtTwF56hr0"
      }
    },
    {
      "cell_type": "markdown",
      "source": [
        "# 2. Explain the difference between mutable and immutable data types with examples?\n",
        "- Mutable Data types: Mutable data types are those whose values can be changed or modified after they are created, without creating a new object in memory. ex:- list , dictionary etc\n",
        "- Immutable data types: Immutable data types are those whose values can not changed or modified after they are created. ex - Tuples and String"
      ],
      "metadata": {
        "id": "2iwyubOs7Q6S"
      }
    },
    {
      "cell_type": "markdown",
      "source": [
        "# 3. What are the main differences between lists and tuples in Python?\n",
        "- List is a mutable data types while tuples are immutable data types."
      ],
      "metadata": {
        "id": "JBqDOwU5727E"
      }
    },
    {
      "cell_type": "markdown",
      "source": [
        "# 4. Describe how dictionaries store data.\n",
        "- Dictionaries store data as key-value pairs. In dictionaries key is a immutable while value is a mutable. key must be unique in dictionaries\n"
      ],
      "metadata": {
        "id": "-J37dvzc8EZV"
      }
    },
    {
      "cell_type": "markdown",
      "source": [
        "# 5. Why might you use a set instead of a list in Python?\n",
        "# In many scenario can use set instead of list\n",
        "- To ensuring uniqueness\n",
        "- for efficient membership testing\n",
        "- for performing set operations"
      ],
      "metadata": {
        "id": "sCy5nuA98NQw"
      }
    },
    {
      "cell_type": "markdown",
      "source": [
        "# 6.  What is a string in Python, and how is it different from a list?\n",
        "- In Python, a string is a sequence of characters, used to represent text while a list in Python is an ordered collection of items, which can be of any data type.\n",
        "- Strings are immutable, meaning their content cannot be changed after creation while Lists are mutable, meaning their elements can be modified, added, or removed after creation."
      ],
      "metadata": {
        "id": "EvQBJN359Hwu"
      }
    },
    {
      "cell_type": "markdown",
      "source": [
        "# 7. How do tuples ensure data integrity in Python?\n",
        "- Tuples ensure data integrity in Python primarily through their immutability. This characteristic means that once a tuple is created, its elements cannot be changed, added, or removed."
      ],
      "metadata": {
        "id": "IeaY0FTN94NH"
      }
    },
    {
      "cell_type": "markdown",
      "source": [
        "# 8. What is a hash table, and how does it relate to dictionaries in Python?\n",
        "- A hash table, also known as a hash map is a data structure that stores key-value pairs. When you create a dictionary and add key-value pairs, Python internally uses a hash table to store and manage this data."
      ],
      "metadata": {
        "id": "uoD1g10d-JFR"
      }
    },
    {
      "cell_type": "markdown",
      "source": [
        "# 9.  Can lists contain different data types in Python?\n",
        "- Yes, Python lists can contain different data types.Python lists are not restricted to holding elements of a single data type. You can mix integers, floats, strings, booleans, and even other lists or objects within the same list."
      ],
      "metadata": {
        "id": "6bV6EGvm-uzF"
      }
    },
    {
      "cell_type": "markdown",
      "source": [
        "# 10. Explain why strings are immutable in Python.\n",
        "Python strings are immutable because their content cannot be changed after creation.\n"
      ],
      "metadata": {
        "id": "cAoeo6KJ_JaI"
      }
    },
    {
      "cell_type": "markdown",
      "source": [
        "What advantages do dictionaries offer over lists for certain tasks\n",
        " How do sets handle duplicate values in Python\n",
        " Describe a scenario where using a tuple would be preferable over a list\n",
        " How does the “in” keyword work differently for lists and dictionaries\n",
        " Can you modify the elements of a tuple? Explain why or why not\n",
        " What is a nested dictionary, and give an example of its use case\n",
        " Describe the time complexity of accessing elements in a dictionary\n",
        " In what situations are lists preferred over dictionaries\n",
        " Why are dictionaries considered unordered, and how does that affect data retrieval\n",
        " Explain the difference between a list and a dictionary in terms of data retrieval"
      ],
      "metadata": {
        "id": "eHXfrBftAI7T"
      }
    },
    {
      "cell_type": "markdown",
      "source": [
        "# 11. What advantages do dictionaries offer over lists for certain tasks?\n",
        "# Advantage over List:\n",
        "- faster data retrieval and organization.\n",
        "- A unique identifier (key) instead of an index.\n"
      ],
      "metadata": {
        "id": "v0HA-q7jAP44"
      }
    },
    {
      "cell_type": "markdown",
      "source": [
        "# 12. How do sets handle duplicate values in Python?\n",
        "- Sets do not allow any duplicate elements. If insert the same item then it  overwrites previos one. When attempt to add an element that already exists in a set, the set will simply ignore the addition and remain unchanged.\n"
      ],
      "metadata": {
        "id": "9914allgBBah"
      }
    },
    {
      "cell_type": "markdown",
      "source": [
        "# 13. Describe a scenario where using a tuple would be preferable over a list.\n",
        "# A scenario where using a tuple would be preferable over a list is:\n",
        "- When representing a fixed, unchangeable data, especially when that data represents a single entity or record.\n",
        "- To define the immutability of that data"
      ],
      "metadata": {
        "id": "16uCsj8GCI3W"
      }
    },
    {
      "cell_type": "markdown",
      "source": [
        "# 14. How does the “in” keyword work differently for lists and dictionaries?\n",
        "- In case of list: It checks the value present in my_list using in operator\n",
        "- In case of dictionary - It checks the key present in my_dictionary using in operator."
      ],
      "metadata": {
        "id": "1EYJJpJ7C0RJ"
      }
    },
    {
      "cell_type": "markdown",
      "source": [
        "# 15. Can you modify the elements of a tuple? Explain why or why not.\n",
        "- No, once the tuple has created it can not be modified because tuples are immutable data structures in Python."
      ],
      "metadata": {
        "id": "nYFS1XvNDvB9"
      }
    },
    {
      "cell_type": "markdown",
      "source": [
        "#16. What is a nested dictionary, and give an example of its use case?\n",
        "- A nested dictionary is a dictionary inside a dictionay  where the values associated with one or more keys are themselves other dictionaries.It's a collection of dictionaries into one single dictionary.\n",
        "ex- Managing the product of different categories."
      ],
      "metadata": {
        "id": "WUF-aRwhERM-"
      }
    },
    {
      "cell_type": "markdown",
      "source": [
        "#17. Describe the time complexity of accessing elements in a dictionary.\n",
        "# Time Complexities of Python Dictionary:-\n",
        "- The time complexity of retrieving a value by its key in a dictionary is O(1). This is because dictionaries use a hash table internally which allows constant time lookup. Time complexity does not significantly increase with the size of the dictionary.\n",
        "\n"
      ],
      "metadata": {
        "id": "Mzy55omXFZtT"
      }
    },
    {
      "cell_type": "markdown",
      "source": [
        "# 18. In what situations are lists preferred over dictionaries.\n",
        "# Lists are preferred over dictionaries in several situations:-\n",
        "- In case of ordered collection.\n",
        "- In case of sequential processing.\n",
        "- In case of Index-Based Access.\n"
      ],
      "metadata": {
        "id": "b-X_5_jUGWTD"
      }
    },
    {
      "cell_type": "markdown",
      "source": [
        "#19.  Why are dictionaries considered unordered, and how does that affect data retrieval?\n",
        "- Dictionaries are considered unordered because they don't maintain the order of insertion, as they use a hash table for fast key-based lookups rather than a sequence. This affects data retrieval because you cannot rely on getting items back in the order they were added; instead, you must use the key to access the correct value, which is a very fast operation."
      ],
      "metadata": {
        "id": "WcUKzakFU8R5"
      }
    },
    {
      "cell_type": "markdown",
      "source": [
        " # 20. Explain the difference between a list and a dictionary in terms of data retrieval.\n",
        " - Lists and dictionaries are fundamental data structures, differing significantly in how data is stored and retrieved.\n",
        "# Lists:\n",
        "- Ordered Collection: Lists maintain the order of elements as they are added.\n",
        "- Indexed Access: Data retrieval relies on numerical indices, starting from 0. To access an element, its position within the list must be known.\n",
        "# Dictionaries:\n",
        "- Unordered Collection: Dictionaries store data as key-value pairs.\n",
        "- Key-Based Access: Data retrieval uses unique, immutable keys to directly access associated values. This provides a direct and efficient way to retrieve data."
      ],
      "metadata": {
        "id": "pXmnbS8xVNnF"
      }
    },
    {
      "cell_type": "markdown",
      "source": [],
      "metadata": {
        "id": "Bs-d4kM6IuLK"
      }
    },
    {
      "cell_type": "markdown",
      "source": [
        "# 1.  Write a code to create a string with your name and print it.\n"
      ],
      "metadata": {
        "id": "vhyNoRq6Ho4O"
      }
    },
    {
      "cell_type": "code",
      "source": [
        "string = \"Navneet\"\n",
        "print(string)"
      ],
      "metadata": {
        "colab": {
          "base_uri": "https://localhost:8080/"
        },
        "id": "d6OrjohAHsvj",
        "outputId": "e31438ad-1933-4e93-b73d-7f68742d3780"
      },
      "execution_count": 1,
      "outputs": [
        {
          "output_type": "stream",
          "name": "stdout",
          "text": [
            "Navneet\n"
          ]
        }
      ]
    },
    {
      "cell_type": "markdown",
      "source": [
        "# 2. Write a code to find the length of the string \"Hello World\"."
      ],
      "metadata": {
        "id": "v0dNd_yiH7GU"
      }
    },
    {
      "cell_type": "code",
      "source": [
        "string = \"Hello World\"\n",
        "print(len(string))"
      ],
      "metadata": {
        "colab": {
          "base_uri": "https://localhost:8080/"
        },
        "id": "CaDfJFZaH_Hp",
        "outputId": "dad8ed86-928b-4846-aeee-78d40c0f4fc4"
      },
      "execution_count": 2,
      "outputs": [
        {
          "output_type": "stream",
          "name": "stdout",
          "text": [
            "11\n"
          ]
        }
      ]
    },
    {
      "cell_type": "markdown",
      "source": [
        "# 3. Write a code to slice the first 3 characters from the string \"Python Programming\"."
      ],
      "metadata": {
        "id": "VEd_zj0dH0wR"
      }
    },
    {
      "cell_type": "code",
      "source": [
        "string = \"Python Programming\"\n",
        "print(string[0:3])"
      ],
      "metadata": {
        "colab": {
          "base_uri": "https://localhost:8080/"
        },
        "id": "-JfBBRGsIO44",
        "outputId": "190c6245-db2d-4814-a934-106724667d23"
      },
      "execution_count": 3,
      "outputs": [
        {
          "output_type": "stream",
          "name": "stdout",
          "text": [
            "Pyt\n"
          ]
        }
      ]
    },
    {
      "cell_type": "markdown",
      "source": [
        "# 4. Write a code to convert the string \"hello\" to uppercase."
      ],
      "metadata": {
        "id": "iSGURZaK8CK1"
      }
    },
    {
      "cell_type": "code",
      "source": [
        "string = \"hello\"\n",
        "print(string.upper())"
      ],
      "metadata": {
        "colab": {
          "base_uri": "https://localhost:8080/"
        },
        "id": "zYQUbsghIiIG",
        "outputId": "c682bf0d-d70d-49f1-a20e-23bdd213e891"
      },
      "execution_count": 4,
      "outputs": [
        {
          "output_type": "stream",
          "name": "stdout",
          "text": [
            "HELLO\n"
          ]
        }
      ]
    },
    {
      "cell_type": "markdown",
      "source": [
        "# 5. Write a code to replace the word \"apple\" with \"orange\" in the string \"I like apple\"."
      ],
      "metadata": {
        "id": "VXPoFS03Ivek"
      }
    },
    {
      "cell_type": "code",
      "source": [
        "string = \"I like apple\"\n",
        "replaced_string = string.replace(\"apple\",\"orange\")\n",
        "print(replaced_string)"
      ],
      "metadata": {
        "colab": {
          "base_uri": "https://localhost:8080/"
        },
        "id": "WEnV1WyNIzpD",
        "outputId": "dd066ba2-4a2d-4db0-b5f4-0d69ad9baa55"
      },
      "execution_count": 6,
      "outputs": [
        {
          "output_type": "stream",
          "name": "stdout",
          "text": [
            "I like orange\n"
          ]
        }
      ]
    },
    {
      "cell_type": "markdown",
      "source": [
        "# 6. Write a code to create a list with numbers 1 to 5 and print it."
      ],
      "metadata": {
        "id": "cLI9YWnRJO-2"
      }
    },
    {
      "cell_type": "code",
      "source": [
        "list = [1,2,3,4,5]\n",
        "print(list)"
      ],
      "metadata": {
        "colab": {
          "base_uri": "https://localhost:8080/"
        },
        "id": "tMZxQHJWJSQN",
        "outputId": "1e58dc0f-94d0-4283-8995-c5d45e32873e"
      },
      "execution_count": 7,
      "outputs": [
        {
          "output_type": "stream",
          "name": "stdout",
          "text": [
            "[1, 2, 3, 4, 5]\n"
          ]
        }
      ]
    },
    {
      "cell_type": "markdown",
      "source": [
        "# 7. Write a code to append the number 10 to the list [1, 2, 3, 4]."
      ],
      "metadata": {
        "id": "qKXQh-KqJgS4"
      }
    },
    {
      "cell_type": "code",
      "source": [
        "list = [1, 2, 3, 4]\n",
        "list.append(10)\n",
        "print(list)"
      ],
      "metadata": {
        "colab": {
          "base_uri": "https://localhost:8080/"
        },
        "id": "8ivgf52FJk0g",
        "outputId": "412233c7-9fe1-4f34-cfd0-cc8fb93024b8"
      },
      "execution_count": 9,
      "outputs": [
        {
          "output_type": "stream",
          "name": "stdout",
          "text": [
            "[1, 2, 3, 4, 10]\n"
          ]
        }
      ]
    },
    {
      "cell_type": "markdown",
      "source": [
        "# 8.  Write a code to remove the number 3 from the list [1, 2, 3, 4, 5].\n"
      ],
      "metadata": {
        "id": "Nexj7K4NKKQ_"
      }
    },
    {
      "cell_type": "code",
      "source": [
        "list = [1, 2, 3, 4, 5]\n",
        "list.remove(3)\n",
        "print(list)"
      ],
      "metadata": {
        "colab": {
          "base_uri": "https://localhost:8080/"
        },
        "id": "i7B9ZauhKSz6",
        "outputId": "b1532ad8-adaf-4e07-b8b7-9eb32e606a76"
      },
      "execution_count": 10,
      "outputs": [
        {
          "output_type": "stream",
          "name": "stdout",
          "text": [
            "[1, 2, 4, 5]\n"
          ]
        }
      ]
    },
    {
      "cell_type": "markdown",
      "source": [
        "# 9. Write a code to access the second element in the list ['a', 'b', 'c', 'd']"
      ],
      "metadata": {
        "id": "x5CfIGS4Kjs4"
      }
    },
    {
      "cell_type": "code",
      "source": [
        "list = ['a', 'b', 'c', 'd']\n",
        "print(list[1])"
      ],
      "metadata": {
        "colab": {
          "base_uri": "https://localhost:8080/"
        },
        "id": "gHG3PfyiJk7G",
        "outputId": "f69ea460-4d09-4767-a650-6897f9738734"
      },
      "execution_count": 11,
      "outputs": [
        {
          "output_type": "stream",
          "name": "stdout",
          "text": [
            "b\n"
          ]
        }
      ]
    },
    {
      "cell_type": "markdown",
      "source": [
        "#10. Write a code to reverse the list [10, 20, 30, 40, 50]."
      ],
      "metadata": {
        "id": "F3rVj1m7K2BE"
      }
    },
    {
      "cell_type": "code",
      "source": [
        "list = [10, 20, 30, 40, 50]\n",
        "list.reverse()\n",
        "print(list)"
      ],
      "metadata": {
        "colab": {
          "base_uri": "https://localhost:8080/"
        },
        "id": "5RQC3WA7K5ej",
        "outputId": "6aa47301-f0e8-4be7-b23f-848bdd21b800"
      },
      "execution_count": 12,
      "outputs": [
        {
          "output_type": "stream",
          "name": "stdout",
          "text": [
            "[50, 40, 30, 20, 10]\n"
          ]
        }
      ]
    },
    {
      "cell_type": "markdown",
      "source": [
        "# 11. Write a code to create a tuple with the elements 100, 200, 300 and print it."
      ],
      "metadata": {
        "id": "nxoaxO8TLN7S"
      }
    },
    {
      "cell_type": "code",
      "source": [
        "t = (100, 200, 300 )\n",
        "print(t)"
      ],
      "metadata": {
        "colab": {
          "base_uri": "https://localhost:8080/"
        },
        "id": "ZOgvIb5iLPgo",
        "outputId": "8b12e6aa-da46-48cf-cbd8-2713c81f698b"
      },
      "execution_count": 13,
      "outputs": [
        {
          "output_type": "stream",
          "name": "stdout",
          "text": [
            "(100, 200, 300)\n"
          ]
        }
      ]
    },
    {
      "cell_type": "markdown",
      "source": [
        "#12. Write a code to access the second-to-last element of the tuple ('red', 'green', 'blue', 'yellow')."
      ],
      "metadata": {
        "id": "EXOzGikmLZaP"
      }
    },
    {
      "cell_type": "code",
      "source": [
        "t = ('red', 'green', 'blue', 'yellow')\n",
        "print(t[2:])"
      ],
      "metadata": {
        "colab": {
          "base_uri": "https://localhost:8080/"
        },
        "id": "4vYJFPbCLd2F",
        "outputId": "ff12c112-f26e-41c1-dc33-5d97bb99be49"
      },
      "execution_count": 14,
      "outputs": [
        {
          "output_type": "stream",
          "name": "stdout",
          "text": [
            "('blue', 'yellow')\n"
          ]
        }
      ]
    },
    {
      "cell_type": "markdown",
      "source": [
        "# 13. Write a code to find the minimum number in the tuple (10, 20, 5, 15)."
      ],
      "metadata": {
        "id": "VEvnLKNbLvNJ"
      }
    },
    {
      "cell_type": "code",
      "source": [
        "t = (10, 20, 5, 15)\n",
        "print(min(t))"
      ],
      "metadata": {
        "colab": {
          "base_uri": "https://localhost:8080/"
        },
        "id": "7qyHoaDaLxnM",
        "outputId": "3b0d67b4-4d01-488d-fc9f-d1de2adab8ba"
      },
      "execution_count": 15,
      "outputs": [
        {
          "output_type": "stream",
          "name": "stdout",
          "text": [
            "5\n"
          ]
        }
      ]
    },
    {
      "cell_type": "markdown",
      "source": [
        "14. Write a code to find the index of the element \"cat\" in the tuple ('dog', 'cat', 'rabbit')."
      ],
      "metadata": {
        "id": "pOMXAxoXMAHt"
      }
    },
    {
      "cell_type": "code",
      "source": [
        "t =('dog', 'cat', 'rabbit')\n",
        "print(t.index(\"cat\"))"
      ],
      "metadata": {
        "colab": {
          "base_uri": "https://localhost:8080/"
        },
        "id": "PyqTXzbqMF2j",
        "outputId": "41b895b5-10e4-4e79-f758-726e233b0374"
      },
      "execution_count": 16,
      "outputs": [
        {
          "output_type": "stream",
          "name": "stdout",
          "text": [
            "1\n"
          ]
        }
      ]
    },
    {
      "cell_type": "markdown",
      "source": [
        "# 15. Write a code to create a tuple containing three different fruits and check if \"kiwi\" is in it."
      ],
      "metadata": {
        "id": "lpGOfW2tMVel"
      }
    },
    {
      "cell_type": "code",
      "source": [
        "t = (\"Apple\",\"Mango\", \"Pineapple\")\n",
        "if \"kiwi\" in t:\n",
        "  print(\"kiwi is in the tuple\")\n",
        "else:\n",
        "  print(\"kiwi is not in the tuple\")\n",
        ""
      ],
      "metadata": {
        "colab": {
          "base_uri": "https://localhost:8080/"
        },
        "id": "XFAkrRMbMX51",
        "outputId": "e086a854-557b-47b6-e358-1ddc5f887328"
      },
      "execution_count": 17,
      "outputs": [
        {
          "output_type": "stream",
          "name": "stdout",
          "text": [
            "kiwi is not in the tuple\n"
          ]
        }
      ]
    },
    {
      "cell_type": "markdown",
      "source": [
        "# 16. Write a code to create a set with the elements 'a', 'b', 'c' and print it."
      ],
      "metadata": {
        "id": "ziEuOh_vNLgx"
      }
    },
    {
      "cell_type": "code",
      "source": [
        "s = {'a', 'b', 'c'}\n",
        "print(s)"
      ],
      "metadata": {
        "colab": {
          "base_uri": "https://localhost:8080/"
        },
        "id": "37vbaIf9NNmG",
        "outputId": "7a8e45df-de8a-4ed4-c249-76bdd0dcab91"
      },
      "execution_count": 18,
      "outputs": [
        {
          "output_type": "stream",
          "name": "stdout",
          "text": [
            "{'c', 'a', 'b'}\n"
          ]
        }
      ]
    },
    {
      "cell_type": "markdown",
      "source": [
        "# 17. Write a code to clear all elements from the set {1, 2, 3, 4, 5}."
      ],
      "metadata": {
        "id": "xxy94JuxNXep"
      }
    },
    {
      "cell_type": "code",
      "source": [
        "s = {1, 2, 3, 4, 5}\n",
        "print(s.clear())"
      ],
      "metadata": {
        "colab": {
          "base_uri": "https://localhost:8080/"
        },
        "id": "v3JDtb47Ndb-",
        "outputId": "d3744741-22aa-450c-d23c-2e5b25e188df"
      },
      "execution_count": 19,
      "outputs": [
        {
          "output_type": "stream",
          "name": "stdout",
          "text": [
            "None\n"
          ]
        }
      ]
    },
    {
      "cell_type": "markdown",
      "source": [
        "#18. Write a code to remove the element 4 from the set {1, 2, 3, 4}."
      ],
      "metadata": {
        "id": "aInvOQl7NnrJ"
      }
    },
    {
      "cell_type": "code",
      "source": [
        "s = {1, 2, 3, 4}\n",
        "s.remove(4)\n",
        "\n",
        "print(s)"
      ],
      "metadata": {
        "colab": {
          "base_uri": "https://localhost:8080/"
        },
        "id": "ZkbT7qLeNplc",
        "outputId": "d1ef2b7f-2894-458d-ff66-166477cf2df7"
      },
      "execution_count": 21,
      "outputs": [
        {
          "output_type": "stream",
          "name": "stdout",
          "text": [
            "{1, 2, 3}\n"
          ]
        }
      ]
    },
    {
      "cell_type": "markdown",
      "source": [
        "# 19. Write a code to find the union of two sets {1, 2, 3} and {3, 4, 5}."
      ],
      "metadata": {
        "id": "BYnXlD3SN__i"
      }
    },
    {
      "cell_type": "code",
      "source": [
        "s1 =  {1, 2, 3}\n",
        "s2 = {3, 4, 5}\n",
        "union_two_set = s1.union(s2)\n",
        "print(union_two_set)"
      ],
      "metadata": {
        "colab": {
          "base_uri": "https://localhost:8080/"
        },
        "id": "u6xykQbwOHq7",
        "outputId": "51659ae0-d0b9-4dc9-a778-a4f154dbad6c"
      },
      "execution_count": 22,
      "outputs": [
        {
          "output_type": "stream",
          "name": "stdout",
          "text": [
            "{1, 2, 3, 4, 5}\n"
          ]
        }
      ]
    },
    {
      "cell_type": "markdown",
      "source": [
        "# 20. Write a code to find the intersection of two sets {1, 2, 3} and {2, 3, 4}"
      ],
      "metadata": {
        "id": "qT9YAaFDOt48"
      }
    },
    {
      "cell_type": "code",
      "source": [
        "s1 =  {1, 2, 3}\n",
        "s2 = {2, 3, 4}\n",
        "intersection_two_set = s1.intersection(s2)\n",
        "print(intersection_two_set)"
      ],
      "metadata": {
        "colab": {
          "base_uri": "https://localhost:8080/"
        },
        "id": "fiq37k8aOwTX",
        "outputId": "91cd67b3-7849-4dde-91f0-cf2a6f2f3b28"
      },
      "execution_count": 23,
      "outputs": [
        {
          "output_type": "stream",
          "name": "stdout",
          "text": [
            "{2, 3}\n"
          ]
        }
      ]
    },
    {
      "cell_type": "markdown",
      "source": [
        " 21. Write a code to create a dictionary with the keys \"name\", \"age\", and \"city\", and print it."
      ],
      "metadata": {
        "id": "lWlG8yoRPNIY"
      }
    },
    {
      "cell_type": "code",
      "source": [
        "my_dict = {\n",
        "    \"name\": \"Navneet\",\n",
        "    \"age\": 26,\n",
        "    \"city\": \"Agra\"\n",
        "}\n",
        "print(my_dict)"
      ],
      "metadata": {
        "colab": {
          "base_uri": "https://localhost:8080/"
        },
        "id": "CZPDkpQzPOe_",
        "outputId": "17cfe474-e72c-4ce9-fa1f-08a92450c197"
      },
      "execution_count": 24,
      "outputs": [
        {
          "output_type": "stream",
          "name": "stdout",
          "text": [
            "{'name': 'Navneet', 'age': 26, 'city': 'Agra'}\n"
          ]
        }
      ]
    },
    {
      "cell_type": "markdown",
      "source": [
        "# 22. Write a code to add a new key-value pair \"country\": \"USA\" to the dictionary {'name': 'John', 'age': 25}."
      ],
      "metadata": {
        "id": "LiUaT9oDPpuB"
      }
    },
    {
      "cell_type": "code",
      "source": [
        "biodata = {'name': 'John', 'age': 25}\n",
        "biodata['country'] = 'USA'\n",
        "print(biodata)"
      ],
      "metadata": {
        "colab": {
          "base_uri": "https://localhost:8080/"
        },
        "id": "h973hGGLP5zB",
        "outputId": "6372c9e3-4ae0-43fc-d1ed-081662d76b41"
      },
      "execution_count": 25,
      "outputs": [
        {
          "output_type": "stream",
          "name": "stdout",
          "text": [
            "{'name': 'John', 'age': 25, 'country': 'USA'}\n"
          ]
        }
      ]
    },
    {
      "cell_type": "markdown",
      "source": [
        "#  23. Write a code to access the value associated with the key \"name\" in the dictionary {'name': 'Alice', 'age': 30}."
      ],
      "metadata": {
        "id": "nnPF1X1ZQOqt"
      }
    },
    {
      "cell_type": "code",
      "source": [
        "my_dict = {'name': 'Alice', 'age': 30}\n",
        "name_value = my_dict['name']\n",
        "print(name_value)"
      ],
      "metadata": {
        "colab": {
          "base_uri": "https://localhost:8080/"
        },
        "id": "y3vK1H36QQ-7",
        "outputId": "f0ca1615-dbfa-432e-bf57-216c2e5491a9"
      },
      "execution_count": 26,
      "outputs": [
        {
          "output_type": "stream",
          "name": "stdout",
          "text": [
            "Alice\n"
          ]
        }
      ]
    },
    {
      "cell_type": "markdown",
      "source": [
        "# 24. Write a code to remove the key \"age\" from the dictionary {'name': 'Bob', 'age': 22, 'city': 'New York'}."
      ],
      "metadata": {
        "id": "4PGksl60Qim6"
      }
    },
    {
      "cell_type": "code",
      "source": [
        "my_dict = {'name': 'Bob', 'age': 22, 'city': 'New York'}\n",
        "del my_dict['age']\n",
        "\n",
        "print(my_dict)"
      ],
      "metadata": {
        "colab": {
          "base_uri": "https://localhost:8080/"
        },
        "id": "PawtgdQPQj-D",
        "outputId": "c7d6a31b-1e16-4386-8449-82ce598fc1e9"
      },
      "execution_count": 27,
      "outputs": [
        {
          "output_type": "stream",
          "name": "stdout",
          "text": [
            "{'name': 'Bob', 'city': 'New York'}\n"
          ]
        }
      ]
    },
    {
      "cell_type": "markdown",
      "source": [
        "25. Write a code to check if the key \"city\" exists in the dictionary {'name': 'Alice', 'city': 'Paris'}"
      ],
      "metadata": {
        "id": "DCg-Xoi4Qy3W"
      }
    },
    {
      "cell_type": "code",
      "source": [
        "my_dict = {'name': 'Alice', 'city': 'Paris'}\n",
        "\n",
        "if 'city' in my_dict:\n",
        "    print(\"The key 'city' exists in the dictionary.\")\n",
        "else:\n",
        "    print(\"The key 'city' does not exist in the dictionary.\")"
      ],
      "metadata": {
        "colab": {
          "base_uri": "https://localhost:8080/"
        },
        "id": "T9VDiqUNQ2b3",
        "outputId": "be4257fa-a9c8-4412-aa6a-3d072bc6c698"
      },
      "execution_count": 28,
      "outputs": [
        {
          "output_type": "stream",
          "name": "stdout",
          "text": [
            "The key 'city' exists in the dictionary.\n"
          ]
        }
      ]
    },
    {
      "cell_type": "markdown",
      "source": [
        "# 26. Write a code to create a list, a tuple, and a dictionary, and print them all."
      ],
      "metadata": {
        "id": "Ybr3qWiIROUu"
      }
    },
    {
      "cell_type": "code",
      "source": [
        "list = [ \"Mango\",1,2, True,4.5]\n",
        "t = (\"red\", \"green\", \"blue\", 100)\n",
        "\n",
        "d = {\n",
        "    \"name\": \"Navneet\",\n",
        "    \"age\": 26,\n",
        "    \"city\": \"Agra\"\n",
        "}\n",
        "\n",
        "\n",
        "print(\"My List:\",list)\n",
        "\n",
        "print(\"My Tuple:\", t)\n",
        "\n",
        "print(\"My Dictionary:\", d)"
      ],
      "metadata": {
        "colab": {
          "base_uri": "https://localhost:8080/"
        },
        "id": "snBcECIWRSGQ",
        "outputId": "ca3d3564-7359-48f9-f351-6b6a068c2a30"
      },
      "execution_count": 29,
      "outputs": [
        {
          "output_type": "stream",
          "name": "stdout",
          "text": [
            "My List: ['Mango', 1, 2, True, 4.5]\n",
            "My Tuple: ('red', 'green', 'blue', 100)\n",
            "My Dictionary: {'name': 'Navneet', 'age': 26, 'city': 'Agra'}\n"
          ]
        }
      ]
    },
    {
      "cell_type": "markdown",
      "source": [
        "27. Write a code to create a list of 5 random numbers between 1 and 100, sort it in ascending order, and print the result(replaced)."
      ],
      "metadata": {
        "id": "DKJ9GFAOR9tX"
      }
    },
    {
      "cell_type": "code",
      "source": [
        "import random\n",
        "\n",
        "\n",
        "random_numbers = []\n",
        "for _ in range(5):\n",
        "    random_numbers.append(random.randint(1, 100))\n",
        "\n",
        "random_numbers.sort()\n",
        "\n",
        "print(random_numbers)"
      ],
      "metadata": {
        "colab": {
          "base_uri": "https://localhost:8080/"
        },
        "id": "Q8Gl8TRRR_0d",
        "outputId": "b1ffb39b-bfd3-40c4-f27b-a315bb98bf91"
      },
      "execution_count": 30,
      "outputs": [
        {
          "output_type": "stream",
          "name": "stdout",
          "text": [
            "[29, 31, 39, 60, 66]\n"
          ]
        }
      ]
    },
    {
      "cell_type": "markdown",
      "source": [
        "28. Write a code to create a list with strings and print the element at the third index."
      ],
      "metadata": {
        "id": "0gFr0AFAShtn"
      }
    },
    {
      "cell_type": "code",
      "source": [
        "my_string = \"Navneet\"\n",
        "my_list = [char for char in my_string]\n",
        "print(my_list)\n",
        "print(\"Element at 3rd index is:\",my_list[3])\n"
      ],
      "metadata": {
        "colab": {
          "base_uri": "https://localhost:8080/"
        },
        "id": "MstX7ZhfSomn",
        "outputId": "318d53d6-027b-4672-eb82-cf7d13c808ea"
      },
      "execution_count": 36,
      "outputs": [
        {
          "output_type": "stream",
          "name": "stdout",
          "text": [
            "['N', 'a', 'v', 'n', 'e', 'e', 't']\n",
            "Element at 3rd index is: n\n"
          ]
        }
      ]
    },
    {
      "cell_type": "markdown",
      "source": [
        "# 29. Write a code to combine two dictionaries into one and print the result."
      ],
      "metadata": {
        "id": "en7rs2vXUEoa"
      }
    },
    {
      "cell_type": "code",
      "source": [
        "dict1 = {'name': 'Navneet', 'age': 26}\n",
        "dict2 = {'city': 'Agra', 'occupation': 'Engineer'}\n",
        "\n",
        "combined_dict = {**dict1, **dict2}\n",
        "\n",
        "print(combined_dict)"
      ],
      "metadata": {
        "colab": {
          "base_uri": "https://localhost:8080/"
        },
        "id": "x5oJfmQ6UGXv",
        "outputId": "835312ba-fa11-4a9a-d95c-f76afb69e13d"
      },
      "execution_count": 37,
      "outputs": [
        {
          "output_type": "stream",
          "name": "stdout",
          "text": [
            "{'name': 'Navneet', 'age': 26, 'city': 'Agra', 'occupation': 'Engineer'}\n"
          ]
        }
      ]
    },
    {
      "cell_type": "markdown",
      "source": [
        "# 30. Write a code to convert a list of strings into a set."
      ],
      "metadata": {
        "id": "cUAdj1YqUaav"
      }
    },
    {
      "cell_type": "code",
      "source": [
        "my_list_of_strings = [\"Mango\", \"banana\", \"orange\", \"Mango\", \"grape\", \"banana\"]\n",
        "my_set_of_strings = set(my_list_of_strings)\n",
        "\n",
        "print(f\"Original list: {my_list_of_strings}\")\n",
        "print(f\"Converted set: {my_set_of_strings}\")"
      ],
      "metadata": {
        "colab": {
          "base_uri": "https://localhost:8080/"
        },
        "id": "iLyhzovTUdCo",
        "outputId": "8ae9fd15-f54e-49c5-f967-d28ce1146655"
      },
      "execution_count": 38,
      "outputs": [
        {
          "output_type": "stream",
          "name": "stdout",
          "text": [
            "Original list: ['Mango', 'banana', 'orange', 'Mango', 'grape', 'banana']\n",
            "Converted set: {'grape', 'Mango', 'orange', 'banana'}\n"
          ]
        }
      ]
    },
    {
      "cell_type": "markdown",
      "source": [],
      "metadata": {
        "id": "yoRJDcZuR5W4"
      }
    },
    {
      "cell_type": "markdown",
      "source": [],
      "metadata": {
        "id": "S6tk9F8OQtqD"
      }
    },
    {
      "cell_type": "code",
      "source": [],
      "metadata": {
        "id": "tDqXNjGBPuEL"
      },
      "execution_count": null,
      "outputs": []
    }
  ]
}